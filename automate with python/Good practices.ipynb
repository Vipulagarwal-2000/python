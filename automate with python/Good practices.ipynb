{
 "cells": [
  {
   "cell_type": "code",
   "execution_count": null,
   "id": "33e1115c",
   "metadata": {},
   "outputs": [],
   "source": [
    "#good practices of programming\n",
    "\n",
    "'''\n",
    "Role of comment in programming\n",
    "1. To explain something.\n",
    "2. Help other understand the code\n",
    "3. To hide the code from execution or To ignore a certain code.\n",
    "\n",
    "Comments are an immportant part of the documentation in programmes.\n",
    "'''\n"
   ]
  }
 ],
 "metadata": {
  "kernelspec": {
   "display_name": "Python 3",
   "language": "python",
   "name": "python3"
  },
  "language_info": {
   "codemirror_mode": {
    "name": "ipython",
    "version": 3
   },
   "file_extension": ".py",
   "mimetype": "text/x-python",
   "name": "python",
   "nbconvert_exporter": "python",
   "pygments_lexer": "ipython3",
   "version": "3.8.8"
  }
 },
 "nbformat": 4,
 "nbformat_minor": 5
}
