{
 "cells": [
  {
   "cell_type": "code",
   "execution_count": 2,
   "id": "d107eb02",
   "metadata": {},
   "outputs": [
    {
     "data": {
      "text/plain": [
       "'\\nSyntax- elif statement-\\nif condition:\\n  statement1\\n  statement2\\nelif condition1:\\n  statement3\\n  statement4\\nelse:\\n  statement5\\n  \\n'"
      ]
     },
     "execution_count": 2,
     "metadata": {},
     "output_type": "execute_result"
    }
   ],
   "source": [
    "#len()- is used to calculate length of the string\n",
    "#int(), str(), float() - type conversion function\n",
    "#input() and print(value,sep='',end='\\n')= for input and print\n",
    "#type() for type checking\n",
    "\n",
    "#boolean data type - True and False\n",
    "#comparision operator \n",
    "\n",
    "# ==, <=, >=, >, <, !=\n",
    "\n",
    "#operator with comparision operator evaluates to the boolean expression.\n",
    "#Boolean operator - and , or ,not .#Boolean operator are used to combine comparision operator expresion.\n",
    "\n",
    "#flowchart- a flowchart is a diagramatic representation of the step by step sequence of excecution of the process.\n",
    "\n",
    "#if, else, elif commands-\n",
    "\n",
    "'''\n",
    "syntax- if statement-\n",
    "if condition/expression:\n",
    "  statement1\n",
    "  statement2\n",
    "statement3\n",
    "'''\n",
    "#python has indentation which make the code more readable, as it introduce blocks of code. with indentation increases a new \n",
    "#block is form and it ends when indentation decreases.\n",
    "\n",
    "'''\n",
    "Syntax- Else statement-\n",
    "if condition/expresssion:\n",
    "  statement1\n",
    "  statement2\n",
    "else:\n",
    "  statement3\n",
    "  statement4\n",
    "'''\n",
    "#in if-else statement, if condition evaluates to false, then else statement is executed.\n",
    "\n",
    "'''\n",
    "Syntax- elif statement-\n",
    "if condition:\n",
    "  statement1\n",
    "  statement2\n",
    "elif condition1:\n",
    "  statement3\n",
    "  statement4\n",
    "else:\n",
    "  statement5\n",
    "  \n",
    "'''\n",
    "#elif add furthur easing and readability to the if -else branching as we can put multiple elif statement in if-else branch.\n",
    "#instead of adding multiple blocks, as it make branching difficult.\n",
    "\n",
    "#truth and false value- a blank string,0.0 or 0 is a Boolean False value while a string or a number is a truth value.\n",
    "#you can check the required value in  bool() function.(type-casting function)\n"
   ]
  },
  {
   "cell_type": "code",
   "execution_count": 1,
   "id": "4e465e7f",
   "metadata": {},
   "outputs": [
    {
     "data": {
      "text/plain": [
       "'\\nfor loop syntax\\nfor name in seuence:\\n'"
      ]
     },
     "execution_count": 1,
     "metadata": {},
     "output_type": "execute_result"
    }
   ],
   "source": [
    "#loops-\n",
    "#two loops in python while loop and for loop\n",
    "# while loop syntax:\n",
    "'''\n",
    "while condition:\n",
    "  statement1\n",
    "  statement2\n",
    "  iteration(required arithmetic operation)\n",
    "'''\n",
    "#while loop is similar to if statement, but it iterates the statement until the condition is false.\n",
    "\n",
    "#infinite loop:\n",
    "\n",
    "#ctrl + c for interrupting the infinite loop.\n",
    "\n",
    "#break and continue statement-\n",
    "# break statement break out of the loop whithout checking the condition, it is useful when there are multiple leak(multiple chances\n",
    "#of infinite loop occurence)\n",
    "\n",
    "#continue statement is used to jump back to the condition which neglect it from execting the rest of the block.\n",
    "\n",
    "#for loop \n",
    "'''\n",
    "for loop syntax\n",
    "for name in sequence:\n",
    "  statement1\n",
    "  statement2\n",
    "'''\n",
    "#for loop will iterate the given name through the sequence and execute the statement that number of time.\n",
    "\n",
    "#range() function is used to generate the sequence which are generally range object and can be used as sequences.\n",
    "#range(start,end,step)- range() gives a sequence from start to end-1 and the step is the change between numbers.\n"
   ]
  },
  {
   "cell_type": "code",
   "execution_count": 8,
   "id": "3798b0eb",
   "metadata": {},
   "outputs": [
    {
     "name": "stdout",
     "output_type": "stream",
     "text": [
      "4\n",
      "Hello vipul\n"
     ]
    },
    {
     "ename": "SystemExit",
     "evalue": "",
     "output_type": "error",
     "traceback": [
      "An exception has occurred, use %tb to see the full traceback.\n",
      "\u001b[1;31mSystemExit\u001b[0m\n"
     ]
    },
    {
     "name": "stderr",
     "output_type": "stream",
     "text": [
      "C:\\Users\\INDIA\\anaconda3\\lib\\site-packages\\IPython\\core\\interactiveshell.py:3445: UserWarning: To exit: use 'exit', 'quit', or Ctrl-D.\n",
      "  warn(\"To exit: use 'exit', 'quit', or Ctrl-D.\", stacklevel=1)\n"
     ]
    }
   ],
   "source": [
    "#function- function in python is a block of code which is used perform certain task as the part of the code.\n",
    "#python has built in function and user defined function. Built-in function are predefined function.\n",
    "# python has modules. Inside the modules and functions are defined. some modules are already initialized as the python code\n",
    "#editior is opened and for other modules we have to import them.\n",
    "#you can import a single or multiple module (by sperating them with commas)\n",
    "'''\n",
    "Alternative import statement-\n",
    "from module_name import funtion_1,function_2\n",
    "in this you won't have to write the module name to always mention it. like random.randint(), you can just write randint()\n",
    "note- * means import all the functions from the module\n",
    "\n",
    "'''\n",
    "#third party module are those module which can be download(installed using PIP utility)  and used with python software.\n",
    "#1. pyperclip module - this module is used to copy and paste the text on clipboard.\n",
    "'''\n",
    "1. random module-\n",
    "we need to import it.\n",
    "import random (it will import whole random module)\n",
    "(a)  random.randint(1,10)\n",
    "(the above syntax will use randint from random module - whose function is to give a random integer from the start value and end \n",
    "value)\n",
    "\n",
    "'''\n",
    "import random\n",
    "r_value = random.randint(1,10)\n",
    "print(r_value)\n",
    "\n",
    "'''\n",
    "2.sys module-\n",
    "import sys\n",
    "sys.exit() (it will terminate the code)\n",
    "\n",
    "'''\n",
    "import sys\n",
    "print(\"Hello vipul\")\n",
    "sys.executable\n",
    "sys.exit()\n",
    "prnt(\"How is your day?\")\n",
    "%tb (jupyter command for notifying traceback)\n",
    "\n",
    "\n",
    "\n",
    "#user-defined function given below.\n",
    "'''\n",
    "function syntax\n",
    "def function_name(arguements):\n",
    "  statement1\n",
    "  statement2\n",
    "  statement3\n",
    "def function_name2(arguements):\n",
    "  statement4\n",
    "  statement5\n",
    "'''\n",
    "#def keyword is used to define the function.\n",
    "#arguement are the value which are passed to the function during the function call.\n",
    "#parameter are the value which are given to the function while defining it.\n",
    "#none value - it means no value\n",
    "# the return value of function with no return statement is none.\n",
    "#keyword arguement are those optional arguement which are given to extra keywords in the function, like end and sep value in \n",
    "#print()"
   ]
  },
  {
   "cell_type": "code",
   "execution_count": 9,
   "id": "ae6af13a",
   "metadata": {},
   "outputs": [
    {
     "name": "stdout",
     "output_type": "stream",
     "text": [
      "\n",
      "None\n"
     ]
    }
   ],
   "source": [
    "spam=print() #here the value in print is none\n",
    "print(spam)"
   ]
  },
  {
   "cell_type": "code",
   "execution_count": 38,
   "id": "32684d68",
   "metadata": {},
   "outputs": [
    {
     "data": {
      "text/plain": [
       "'\\nglobal scope for the variable is created when the program starts and is destroyed when  it ends.\\nlocal scope for the varable is created when the function is called and is destroyed when the functction ends.\\n\\ndefining global and local scope-\\n\\n1#local variable will not be used in the global scope.\\n\\n2#one local scope variable are not able to be used in another local scope.\\n\\n3#Global variable are readble through any function local scope\\n when both global varriable scope and local scope variable name are same, assignment in local\\n variable means local variable otherwise it will be considered global and it will be global if its defined with global statement\\n in the local scope\\n  \\n-- to assign value from local scope to global scope varriable \\nfirst define global variable_name in local name then you can assign it.\\n\\n4# multiple local scopes variable can have same name but their reference will be different.\\n'"
      ]
     },
     "execution_count": 38,
     "metadata": {},
     "output_type": "execute_result"
    }
   ],
   "source": [
    "# Global and Local scope\n",
    "'''\n",
    "global scope for the variable is created when the program starts and is destroyed when  it ends.\n",
    "local scope for the varable is created when the function is called and is destroyed when the functction ends.\n",
    "\n",
    "defining global and local scope-\n",
    "\n",
    "1#local variable will not be used in the global scope.\n",
    "\n",
    "2#one local scope variable are not able to be used in another local scope.\n",
    "\n",
    "3#Global variable are readble through any function local scope\n",
    " when both global varriable scope and local scope variable name are same, assignment in local\n",
    " variable means local variable otherwise it will be considered global and it will be global if its defined with global statement\n",
    " in the local scope\n",
    "  \n",
    "-- to assign value from local scope to global scope varriable \n",
    "first define global variable_name in local name then you can assign it.\n",
    "\n",
    "4# multiple local scopes variable can have same name but their reference will be different.\n",
    "'''"
   ]
  },
  {
   "cell_type": "code",
   "execution_count": 24,
   "id": "c6a8cbff",
   "metadata": {},
   "outputs": [
    {
     "name": "stdout",
     "output_type": "stream",
     "text": [
      "Not spam\n",
      "Not trash\n",
      "eggs\n",
      "Not spam\n",
      "Spam! Spam! Spam!\n",
      "Spam! Spam! Spam!\n",
      "Spam! Spam! Spam!\n"
     ]
    }
   ],
   "source": [
    "#1# \n",
    "def function_1():\n",
    "    spam='egg'\n",
    "    trash='bacon'\n",
    "spam='Not spam'\n",
    "trash=\"Not trash\"\n",
    "function_1()\n",
    "print(spam)\n",
    "print(trash)\n",
    "\n",
    "#2#\n",
    "def function_2():\n",
    "    spam=\"eggs\"\n",
    "    print(spam)\n",
    "def function_3():\n",
    "    print(spam)   #function_3() tooks the value from global spam, it cannot share another local space value\n",
    "function_2()                  #if we have an assignment operator with spam then it will be a local spam for function_3()\n",
    "function_3()      #global variable are readable through any function local space\n",
    "\n",
    "#3#\n",
    "def function_4():\n",
    "    global spam\n",
    "    spam=\"Spam! Spam! Spam!\"\n",
    "    print(spam)\n",
    "    return spam\n",
    "print(function_4())      #used global keyword for printing the global variable \n",
    "print(spam)              #function_4 changed the global spam value"
   ]
  },
  {
   "cell_type": "code",
   "execution_count": 20,
   "id": "23ded084",
   "metadata": {},
   "outputs": [],
   "source": [
    "#Error handling-\n",
    "#try and except commands are used for error handling.\n",
    "#only the exceptions are handled, which are runtime error.\n",
    "'''\n",
    "if there are any error which can be handled by user, we use try and except method to handled it.\n",
    "at first the try block is executed then if there is a exception, it passes through exceptions blocks.\n",
    "if it matches the exception the error is handled there, there can be as many as exception blocks but only one try block.\n",
    "if no exception matches the error than the error is unhandled and it gives the error.\n",
    "\n",
    "'''\n",
    "#you can handle multiple exception by adding a tuple with error-name just beside the except command."
   ]
  },
  {
   "cell_type": "code",
   "execution_count": 38,
   "id": "b271adaa",
   "metadata": {},
   "outputs": [
    {
     "name": "stdout",
     "output_type": "stream",
     "text": [
      "Hi! there.\n",
      "Let me ask you how many cats do you have?\n",
      "4\n",
      "Thats too many cat!\n",
      "No Calculations between Talks.\n"
     ]
    }
   ],
   "source": [
    "print(\"Hi! there.\")\n",
    "cat = input(\"Let me ask you how many cats do you have?\\n\")\n",
    "try:\n",
    "    if int(cat)>3:\n",
    "        print(\"Thats too many cat!\")\n",
    "    elif int(cat)<=3 and int(cat)>0:\n",
    "        print(\"Not that many I assume.\")\n",
    "    else:\n",
    "        print(\"You don't have any cat.\")\n",
    "    print(3/0)\n",
    "except (TypeError, ValueError): \n",
    "    print(\"Please enter the Input in numeric form.\") #Input validation\n",
    "except ZeroDivisionError:\n",
    "    print(\"No Calculations between Talks.\")"
   ]
  },
  {
   "cell_type": "code",
   "execution_count": null,
   "id": "6768d580",
   "metadata": {},
   "outputs": [],
   "source": []
  },
  {
   "cell_type": "code",
   "execution_count": null,
   "id": "3e938f4f",
   "metadata": {},
   "outputs": [],
   "source": []
  }
 ],
 "metadata": {
  "kernelspec": {
   "display_name": "Python 3",
   "language": "python",
   "name": "python3"
  },
  "language_info": {
   "codemirror_mode": {
    "name": "ipython",
    "version": 3
   },
   "file_extension": ".py",
   "mimetype": "text/x-python",
   "name": "python",
   "nbconvert_exporter": "python",
   "pygments_lexer": "ipython3",
   "version": "3.8.8"
  }
 },
 "nbformat": 4,
 "nbformat_minor": 5
}
