{
 "cells": [
  {
   "cell_type": "code",
   "execution_count": null,
   "id": "2036895d",
   "metadata": {},
   "outputs": [],
   "source": [
    "#this file explain how to install packages in anaconda jypter notebook.\n",
    "'''\n",
    "1. first you need to install conda on your pc(window, mac, linux).\n",
    "\n",
    "visit the following url to download and install it https://www.anaconda.com/products/distribution.\n",
    "\n",
    "2. after installation you can run the varrious ide, software and environments.\n",
    "\n",
    "3. now comes the main part installation of packages in jypter notebook.\n",
    "\n",
    "4. if you use command promt (cmd) and uses the pip utility to install it.\n",
    "\n",
    "for ex- pip install pyperclip\n",
    "it will install the module and it is accesible through python idle software but not from anaconda why it simple\n",
    "because the anaconda root and pip root dosent matches. so it is actuallly avilable in your computer but is not\n",
    "alligned with anconda jypter notebook.\n",
    "\n",
    "so when you try to import the module in jypter notebook, it will show an error \"ModuleNotFoundError :traceback \n",
    "the module tabulate is not found\".\n",
    "\n",
    "5. To solve it first close the anaconda and all app related to anaconda. Then open anaconda promt.\n",
    "(just go to menu and search anaconda promt(window))\n",
    "\n",
    "6. Here search for the required package using the command \" conda search package\".\n",
    " it will search all the related package avilable in the conda.\n",
    " \n",
    "7. then to install the package type the command \" conda install package\"\n",
    "\n",
    "8. after installation you are ready to go.\n",
    "\n",
    "note-\n",
    "\n",
    "if there is no required package avilable in anaconda.\n",
    "visit anaconda.org and use the search for package searching.\n",
    "this happen when we need to integrate third party package with anaconda.\n",
    "after you find the required package .\n",
    "to install it write the command in anaconda prompt \" conda install -c third-part-name package\"\n",
    "and now you are ready to go.\n",
    "\n",
    "for more detail installation guide visit anaconda.org\n",
    "'''"
   ]
  }
 ],
 "metadata": {
  "kernelspec": {
   "display_name": "Python 3",
   "language": "python",
   "name": "python3"
  },
  "language_info": {
   "codemirror_mode": {
    "name": "ipython",
    "version": 3
   },
   "file_extension": ".py",
   "mimetype": "text/x-python",
   "name": "python",
   "nbconvert_exporter": "python",
   "pygments_lexer": "ipython3",
   "version": "3.8.8"
  }
 },
 "nbformat": 4,
 "nbformat_minor": 5
}
