{
 "cells": [
  {
   "cell_type": "code",
   "execution_count": 1,
   "id": "8b3fdb16",
   "metadata": {},
   "outputs": [
    {
     "name": "stdout",
     "output_type": "stream",
     "text": [
      "hello this is revision\n"
     ]
    }
   ],
   "source": [
    "print(\"hello this is revision\")"
   ]
  },
  {
   "cell_type": "code",
   "execution_count": 2,
   "id": "2b3129e8",
   "metadata": {},
   "outputs": [
    {
     "name": "stdout",
     "output_type": "stream",
     "text": [
      "so we begin today at 3-08-2022. let's Continue on. \n"
     ]
    }
   ],
   "source": [
    "print(\"so we begin today at 3-08-2022. let's Continue on. \")"
   ]
  },
  {
   "cell_type": "code",
   "execution_count": 3,
   "id": "8693e151",
   "metadata": {},
   "outputs": [
    {
     "name": "stdout",
     "output_type": "stream",
     "text": [
      "hello\n",
      "world\n",
      "hello\n",
      "peter\n",
      "hello world\n",
      "hello\n",
      "world\n",
      "peace\n"
     ]
    }
   ],
   "source": [
    "print('hello')\n",
    "print('world')\n",
    "print('hello\\npeter')\n",
    "\n",
    "#\\n - newline character.\n",
    "#print(data,sep=' '(default),end='\\n(default)') - sep is the seperator which will seperate every input after (,).\n",
    "\n",
    "print('hello',end=' ');print(\"world\")\n",
    "\n",
    "# (;) is the terminator for ending the line.\n",
    "\n",
    "print(\"hello\",\"world\",\"peace\",sep='\\n')"
   ]
  },
  {
   "cell_type": "code",
   "execution_count": 4,
   "id": "87e4f3bd",
   "metadata": {},
   "outputs": [
    {
     "name": "stdout",
     "output_type": "stream",
     "text": [
      "30\n",
      "Enter your name please?\n",
      "vipul\n",
      "vipul\n"
     ]
    },
    {
     "data": {
      "text/plain": [
       "'\\nint()- cast the given value into a integer\\nlist()\\ntuple()\\nset()\\nstr()\\nfloat()\\ncomplex() - x+jy complex number in python.\\n\\n'"
      ]
     },
     "execution_count": 4,
     "metadata": {},
     "output_type": "execute_result"
    }
   ],
   "source": [
    "#Input in python.\n",
    "a=10\n",
    "b=20\n",
    "print(a+b)\n",
    "#input method= takes in input from user(takes in string)\n",
    "\n",
    "a=input(\"Enter your name please?\\n\")\n",
    "print(a)\n",
    "\n",
    "#basic data types-\n",
    "\"\"\"Multi line comment - triple quote\n",
    "Primitive data type-\n",
    "\n",
    "intger\n",
    "float\n",
    "string\n",
    "boolean\n",
    "complex\n",
    "\n",
    "Advance data type-\n",
    "\n",
    "list\n",
    "dictionary\n",
    "set\n",
    "tuple\n",
    "range object\n",
    "\n",
    "\"\"\"\n",
    "#type casting method\n",
    "\"\"\"\n",
    "int()- cast the given value into a integer\n",
    "list()\n",
    "tuple()\n",
    "set()\n",
    "str()\n",
    "float()\n",
    "complex() - x+jy complex number in python.\n",
    "\n",
    "\"\"\"\n",
    "#type() - method is used for checking the type of the data."
   ]
  },
  {
   "cell_type": "code",
   "execution_count": 3,
   "id": "c8ec1da7",
   "metadata": {},
   "outputs": [
    {
     "name": "stdout",
     "output_type": "stream",
     "text": [
      "A\n",
      "10\n"
     ]
    },
    {
     "data": {
      "text/plain": [
       "'\\nBODMAS- bracket > Modulus(python) > power > division > multiplication > addition > substraction.\\n+, -, *, /, //, **, %\\n\\n'"
      ]
     },
     "execution_count": 3,
     "metadata": {},
     "output_type": "execute_result"
    }
   ],
   "source": [
    "a=int(input(),16) #int(value,base)- base(16)---- value of A is 10\n",
    "print(a)\n",
    "#check string to character - Result only numeric string are convertible not the other string values(character included) \n",
    "\n",
    "#operator precedence\n",
    "#Arithmetic operation-\n",
    "'''\n",
    "BODMAS- bracket > Modulus(python) > power > division > multiplication > addition > substraction.\n",
    "+, -, *, /, //, **, %\n",
    "\n",
    "'''\n",
    "\n",
    "#String formating.\n",
    "#string{name or number:formating}.format(value1,value2)"
   ]
  },
  {
   "cell_type": "code",
   "execution_count": null,
   "id": "d50c42e2",
   "metadata": {},
   "outputs": [],
   "source": []
  }
 ],
 "metadata": {
  "kernelspec": {
   "display_name": "Python 3",
   "language": "python",
   "name": "python3"
  },
  "language_info": {
   "codemirror_mode": {
    "name": "ipython",
    "version": 3
   },
   "file_extension": ".py",
   "mimetype": "text/x-python",
   "name": "python",
   "nbconvert_exporter": "python",
   "pygments_lexer": "ipython3",
   "version": "3.8.8"
  }
 },
 "nbformat": 4,
 "nbformat_minor": 5
}
