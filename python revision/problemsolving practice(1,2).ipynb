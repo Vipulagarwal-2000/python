{
 "cells": [
  {
   "cell_type": "code",
   "execution_count": null,
   "id": "5882279d",
   "metadata": {},
   "outputs": [],
   "source": [
    "#P1\n",
    "'''\n",
    "Write a python program to check whether the youth is eligible to be a part of the group or not.\n",
    "\n",
    "eligibility criteria-\n",
    "1. Student must have an A grade in exam(marks>80 == A)\n",
    "2. Student must have joined before 2020.\n",
    "3. Student age must be greater than  18\n",
    "'''"
   ]
  },
  {
   "cell_type": "code",
   "execution_count": null,
   "id": "08c5d44e",
   "metadata": {},
   "outputs": [],
   "source": [
    "marks=int(input(\"Enter the marks of your exam ?\\n\"))\n",
    "yoj= int(input(\"Enter your year of joining ?\\n\"))\n",
    "age=int(input(\"Enter your age in numbers ?\\n\"))\n",
    "print(\"\\n\\n\\n\")\n",
    "if marks>=80:\n",
    "    if yoj<2020:\n",
    "        if age>18:\n",
    "            print(\"{0}: true.\".format(age))\n",
    "        else:\n",
    "            print(\"{0}: false.\".format(age))\n",
    "            \n",
    "    else:\n",
    "        print(\"Student year of joining is not before 2020.\")\n",
    "        print(\"{0}: false.\".format(age))\n",
    "        \n",
    "else:\n",
    "    print(\"Student has not gotten A grade in the exam.\")\n",
    "    print(\"{0}: false.\".format(age))\n"
   ]
  },
  {
   "cell_type": "code",
   "execution_count": null,
   "id": "e05bde07",
   "metadata": {},
   "outputs": [],
   "source": [
    "#P2\n",
    "'''\n",
    "Write a python code to check whether the string is a Palindrome or not.\n",
    "ex - NITIN is a palindrome\n",
    "wasitacatotacatisaw is a palindrome\n",
    "\n",
    "welcome is not a palindrome\n",
    "'''"
   ]
  },
  {
   "cell_type": "code",
   "execution_count": null,
   "id": "2f26ccfe",
   "metadata": {},
   "outputs": [],
   "source": []
  },
  {
   "cell_type": "code",
   "execution_count": null,
   "id": "0953436d",
   "metadata": {},
   "outputs": [],
   "source": [
    "#P3\n",
    "'''\n",
    "A python program to read a number and print a square of it.\n",
    "'''"
   ]
  },
  {
   "cell_type": "code",
   "execution_count": null,
   "id": "cebb54b2",
   "metadata": {},
   "outputs": [],
   "source": [
    "num=int(input(\"Enter the number ?\\n\"))\n",
    "print(\"The square of the number is : {0}\".format(num*num))"
   ]
  },
  {
   "cell_type": "code",
   "execution_count": null,
   "id": "44f13b6a",
   "metadata": {},
   "outputs": [],
   "source": [
    "#P4\n",
    "'''\n",
    "Write a python program to read a string from the console and print each character of the string in seperate line.\n",
    "\n",
    "'''"
   ]
  },
  {
   "cell_type": "code",
   "execution_count": null,
   "id": "77600b7f",
   "metadata": {},
   "outputs": [],
   "source": [
    "sen = input(\"Enter the string : \\n\")\n",
    "for i in sen:\n",
    "    print(i,end=\"\\n\")"
   ]
  },
  {
   "cell_type": "code",
   "execution_count": null,
   "id": "b8209327",
   "metadata": {},
   "outputs": [],
   "source": [
    "#P5\n",
    "'''\n",
    "Write a python program to read a 4- digit intger value as an input and perform sum of all digits of input interger and\n",
    "print the sum.\n",
    "\n",
    "'''\n",
    "#we have to solve it in another way too\n"
   ]
  },
  {
   "cell_type": "code",
   "execution_count": 7,
   "id": "5073a7a3",
   "metadata": {},
   "outputs": [
    {
     "name": "stdout",
     "output_type": "stream",
     "text": [
      "Enter the value :\n",
      "\n",
      "\n",
      "1234\n",
      "The sum of all the digits of the number is : 10.\n"
     ]
    }
   ],
   "source": [
    "reaad =input(\"Enter the value :\\n\\n\\n\")\n",
    "lread=list(reaad)\n",
    "add=0\n",
    "for i in lread:\n",
    "    add +=int(i)\n",
    "print(\"The sum of all the digits of the number is : {0}.\".format(add))"
   ]
  },
  {
   "cell_type": "code",
   "execution_count": null,
   "id": "9134a6d7",
   "metadata": {},
   "outputs": [],
   "source": [
    "#P6\n",
    "'''\n",
    "Write a python program to read a float value as input and round it to 2-digit .\n",
    "'''"
   ]
  },
  {
   "cell_type": "code",
   "execution_count": 2,
   "id": "98d94471",
   "metadata": {},
   "outputs": [
    {
     "name": "stdout",
     "output_type": "stream",
     "text": [
      "Enter the float value : \n",
      "\n",
      "123.234\n",
      "The float value is : 123.23.\n"
     ]
    }
   ],
   "source": [
    "flot = float(input(\"Enter the float value : \\n\\n\"))\n",
    "print(\"The float value is : {0:.2f}  .\".format(flot))"
   ]
  },
  {
   "cell_type": "code",
   "execution_count": null,
   "id": "aa5d2f12",
   "metadata": {},
   "outputs": [],
   "source": [
    "#P7\n",
    "'''\n",
    "Write a python program to read a string expression from a console and print the length of the expression.\n",
    "\n",
    "'''\n",
    "#whitespaces are considered a part of the string"
   ]
  },
  {
   "cell_type": "code",
   "execution_count": 8,
   "id": "c13564da",
   "metadata": {},
   "outputs": [
    {
     "name": "stdout",
     "output_type": "stream",
     "text": [
      "Enter the String :\n",
      "\n",
      "hello how are you\n",
      "The length of the String is 17.\n"
     ]
    }
   ],
   "source": [
    "strlen = input(\"Enter the String :\\n\\n\") \n",
    "print(\"The length of the String is {0}.\".format(len(strlen)))\n"
   ]
  },
  {
   "cell_type": "code",
   "execution_count": null,
   "id": "e25bfeb5",
   "metadata": {},
   "outputs": [],
   "source": [
    "#P8\n",
    "'''\n",
    "Write a python program  to read an input and to check and print out the following:\n",
    "\n",
    "1. if the input is a odd natural number then print out it is a odd natural number.\n",
    "2. if the input is a even natural number then print out it is a even natural number.\n",
    "3. if the input is not a natural number but a odd number then print out it is a odd number.\n",
    "4. if the input is not a natural number but a even number then print out it is a even number.\n",
    "'''"
   ]
  },
  {
   "cell_type": "code",
   "execution_count": null,
   "id": "16513003",
   "metadata": {},
   "outputs": [],
   "source": [
    "readint=int(input(\"Please enter the Integer value : \\n\\n\"))\n",
    "if readint>0:\n",
    "    print(\"It's a natural number.\")\n",
    "    if readint%2==0:\n",
    "        print(\"It is an Even natural number.\")\n",
    "    else:\n",
    "        print(\"It is an odd natural number. \")\n",
    "else:\n",
    "    print(\"It is not a natural number.\")\n",
    "    if readint%2==0:\n",
    "        print(\"It is a Even Number.\")\n",
    "    else:\n",
    "        print(\"It is a Odd Number.\")"
   ]
  },
  {
   "cell_type": "code",
   "execution_count": null,
   "id": "625c88a2",
   "metadata": {},
   "outputs": [],
   "source": [
    "#P9\n",
    "'''\n",
    "Write a python program to check whether a year is a leap year or not.\n",
    "'''"
   ]
  },
  {
   "cell_type": "code",
   "execution_count": null,
   "id": "33ed636b",
   "metadata": {},
   "outputs": [],
   "source": []
  },
  {
   "cell_type": "code",
   "execution_count": null,
   "id": "c6e6b14d",
   "metadata": {},
   "outputs": [],
   "source": [
    "#Breakdown\n",
    "'''\n",
    "How to calculate whether a following year is a leap year or not ?\n",
    "\n",
    "'''"
   ]
  },
  {
   "cell_type": "code",
   "execution_count": null,
   "id": "dba9a324",
   "metadata": {},
   "outputs": [],
   "source": [
    "#P10\n",
    "'''\n",
    "Write a python program to read a String from the console, read another string which will be called pattern.\n",
    "if the input start or ends with the given input patterns.\n",
    "print : String contains the pattern\n",
    "else print : String does not contain the pattern\n",
    "\n",
    "example:\n",
    "\n",
    "Engineer build the nation\n",
    "pattern value should be : Engineer or nation.\n",
    "if build or the is pattern value, it will be false\n",
    "'''"
   ]
  },
  {
   "cell_type": "code",
   "execution_count": null,
   "id": "1ceeec0a",
   "metadata": {},
   "outputs": [],
   "source": []
  },
  {
   "cell_type": "code",
   "execution_count": null,
   "id": "c8c7bca4",
   "metadata": {},
   "outputs": [],
   "source": [
    "#P11\n",
    "'''\n",
    "Write a python program to read a float number from the console as salary, print the salary with hike.\n",
    "Conditions for the necessary hike:\n",
    "\n",
    "1. if salary >=10000, hike 10% of salary.\n",
    "2. if salary >=6000, hike 8% of salary.\n",
    "3. if salary <6000, hike 5% of salary.\n",
    "\n",
    "\n",
    "Note : Updated salary should be rounded to two digit.\n",
    "'''"
   ]
  },
  {
   "cell_type": "code",
   "execution_count": null,
   "id": "27571ef7",
   "metadata": {},
   "outputs": [],
   "source": []
  },
  {
   "cell_type": "code",
   "execution_count": null,
   "id": "f18b99b9",
   "metadata": {},
   "outputs": [],
   "source": [
    "#P12\n",
    "'''\n",
    "Write a menu driven python program, read two integer value from the console and do the following operations on it as\n",
    "given in menu.\n",
    "\n",
    "1. Addition\n",
    "2. Substration\n",
    "3. Multiplication\n",
    "4. Division\n",
    "5. power\n",
    "6. Remainder (Modulus)\n",
    "7. Floor division\n",
    "\n",
    "\n",
    "\n",
    "if there is a invalid choice print out invalid choice.\n",
    "answer it using if / else, switch or other method.\n",
    "\"you can furthur add other options to it\"\n",
    "'''"
   ]
  },
  {
   "cell_type": "code",
   "execution_count": null,
   "id": "5b619f25",
   "metadata": {},
   "outputs": [],
   "source": []
  },
  {
   "cell_type": "code",
   "execution_count": null,
   "id": "e679836c",
   "metadata": {},
   "outputs": [],
   "source": []
  },
  {
   "cell_type": "code",
   "execution_count": null,
   "id": "d36ce0a9",
   "metadata": {},
   "outputs": [],
   "source": [
    "#P13\n",
    "'''\n",
    "Write a python program to read an integer from console as x, print true if x is a palindrome number otherwise print false.\n",
    "'''"
   ]
  },
  {
   "cell_type": "code",
   "execution_count": null,
   "id": "ed0df051",
   "metadata": {},
   "outputs": [],
   "source": []
  },
  {
   "cell_type": "code",
   "execution_count": null,
   "id": "72b1234d",
   "metadata": {},
   "outputs": [],
   "source": [
    "#P14\n",
    "\n",
    "'''\n",
    "Write a python program to read two string from console as str1 and str2, \n",
    "write a logic to check if str1 and str2 are anagrams or not.\n",
    "\n",
    "anagrams = An anagram is a word or phrase formed by rearranging the letter of a different word or phrase, \n",
    "typically using all the original letters exactly once.\n",
    "\n",
    "\n",
    "example : \n",
    "Listen == silent\n",
    "\n",
    "triangle == triangle\n",
    "\n",
    "\n",
    "if str1==str2 print str1==str2 is true\n",
    "else str1!=str2 print str1==str2 is false\n",
    "'''\n",
    "\n",
    "'''\n",
    "1. solve it for a word\n",
    "2. solve it for more than one word\n",
    "'''"
   ]
  }
 ],
 "metadata": {
  "kernelspec": {
   "display_name": "Python 3",
   "language": "python",
   "name": "python3"
  },
  "language_info": {
   "codemirror_mode": {
    "name": "ipython",
    "version": 3
   },
   "file_extension": ".py",
   "mimetype": "text/x-python",
   "name": "python",
   "nbconvert_exporter": "python",
   "pygments_lexer": "ipython3",
   "version": "3.8.8"
  }
 },
 "nbformat": 4,
 "nbformat_minor": 5
}
