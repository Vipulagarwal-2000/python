{
 "cells": [
  {
   "cell_type": "code",
   "execution_count": null,
   "id": "5882279d",
   "metadata": {},
   "outputs": [],
   "source": [
    "#P1\n",
    "'''\n",
    "Write a python program to check whether the youth is eligible to be a part of the group or not.\n",
    "\n",
    "eligibility criteria-\n",
    "1. Student must have an A grade in exam(marks>80 == A)\n",
    "2. Student must have joined before 2020.\n",
    "3. Student age must be greater than  18\n",
    "'''"
   ]
  },
  {
   "cell_type": "code",
   "execution_count": null,
   "id": "08c5d44e",
   "metadata": {},
   "outputs": [],
   "source": [
    "marks=int(input(\"Enter the marks of your exam ?\\n\"))\n",
    "yoj= int(input(\"Enter your year of joining ?\\n\"))\n",
    "age=int(input(\"Enter your age in numbers ?\\n\"))\n",
    "print(\"\\n\\n\\n\")\n",
    "if marks>=80:\n",
    "    if yoj<2020:\n",
    "        if age>18:\n",
    "            print(\"{0}: true.\".format(age))\n",
    "        else:\n",
    "            print(\"{0}: false.\".format(age))\n",
    "            \n",
    "    else:\n",
    "        print(\"Student year of joining is not before 2020.\")\n",
    "        print(\"{0}: false.\".format(age))\n",
    "        \n",
    "else:\n",
    "    print(\"Student has not gotten A grade in the exam.\")\n",
    "    print(\"{0}: false.\".format(age))\n"
   ]
  },
  {
   "cell_type": "code",
   "execution_count": null,
   "id": "e05bde07",
   "metadata": {},
   "outputs": [],
   "source": [
    "#P2\n",
    "'''\n",
    "Write a python code to check whether the string is a Palindrome or not.\n",
    "ex - NITIN is a palindrome\n",
    "wasitacatotacatisaw is a palindrome\n",
    "\n",
    "welcome is not a palindrome\n",
    "'''"
   ]
  },
  {
   "cell_type": "code",
   "execution_count": null,
   "id": "2f26ccfe",
   "metadata": {},
   "outputs": [],
   "source": []
  },
  {
   "cell_type": "code",
   "execution_count": null,
   "id": "0953436d",
   "metadata": {},
   "outputs": [],
   "source": [
    "#P3\n",
    "'''\n",
    "A python program to read a number and print a square of it.\n",
    "'''"
   ]
  },
  {
   "cell_type": "code",
   "execution_count": null,
   "id": "cebb54b2",
   "metadata": {},
   "outputs": [],
   "source": [
    "num=int(input(\"Enter the number ?\\n\"))\n",
    "print(\"The square of the number is : {0}\".format(num*num))"
   ]
  },
  {
   "cell_type": "code",
   "execution_count": null,
   "id": "44f13b6a",
   "metadata": {},
   "outputs": [],
   "source": [
    "#P4\n",
    "'''\n",
    "Write a python program to read a string from the console and print each character of the string in seperate line.\n",
    "\n",
    "'''"
   ]
  },
  {
   "cell_type": "code",
   "execution_count": null,
   "id": "77600b7f",
   "metadata": {},
   "outputs": [],
   "source": [
    "sen = input(\"Enter the string : \\n\")\n",
    "for i in sen:\n",
    "    print(i,end=\"\\n\")"
   ]
  },
  {
   "cell_type": "code",
   "execution_count": null,
   "id": "b8209327",
   "metadata": {},
   "outputs": [],
   "source": [
    "#P5\n",
    "'''\n",
    "Write a python program to read a 4- digit intger value as an input and perform sum of all digits of input interger and\n",
    "print the sum.\n",
    "\n",
    "'''"
   ]
  },
  {
   "cell_type": "code",
   "execution_count": null,
   "id": "5073a7a3",
   "metadata": {},
   "outputs": [],
   "source": []
  },
  {
   "cell_type": "code",
   "execution_count": null,
   "id": "9134a6d7",
   "metadata": {},
   "outputs": [],
   "source": [
    "#P6\n",
    "'''\n",
    "Write a python program to read a float value as input and round it to 2-digit .\n",
    "'''"
   ]
  },
  {
   "cell_type": "code",
   "execution_count": null,
   "id": "98d94471",
   "metadata": {},
   "outputs": [],
   "source": []
  },
  {
   "cell_type": "code",
   "execution_count": null,
   "id": "aa5d2f12",
   "metadata": {},
   "outputs": [],
   "source": [
    "#P7\n",
    "'''\n",
    "\n",
    "'''"
   ]
  }
 ],
 "metadata": {
  "kernelspec": {
   "display_name": "Python 3",
   "language": "python",
   "name": "python3"
  },
  "language_info": {
   "codemirror_mode": {
    "name": "ipython",
    "version": 3
   },
   "file_extension": ".py",
   "mimetype": "text/x-python",
   "name": "python",
   "nbconvert_exporter": "python",
   "pygments_lexer": "ipython3",
   "version": "3.8.8"
  }
 },
 "nbformat": 4,
 "nbformat_minor": 5
}
