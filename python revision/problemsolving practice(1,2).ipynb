{
 "cells": [
  {
   "cell_type": "code",
   "execution_count": null,
   "id": "5882279d",
   "metadata": {},
   "outputs": [],
   "source": [
    "#P1\n",
    "'''\n",
    "Write a python program to check whether the youth is eligible to be a part of the group or not.\n",
    "\n",
    "eligibility criteria-\n",
    "1. Student must have an A grade in exam(marks>80 == A)\n",
    "2. Student must have joined before 2020.\n",
    "3. Student age must be greater than  18\n",
    "'''"
   ]
  },
  {
   "cell_type": "code",
   "execution_count": null,
   "id": "08c5d44e",
   "metadata": {},
   "outputs": [],
   "source": [
    "marks=int(input(\"Enter the marks of your exam ?\\n\"))\n",
    "yoj= int(input(\"Enter your year of joining ?\\n\"))\n",
    "age=int(input(\"Enter your age in numbers ?\\n\"))\n",
    "print(\"\\n\\n\\n\")\n",
    "if marks>=80:\n",
    "    if yoj<2020:\n",
    "        if age>18:\n",
    "            print(\"{0}: true.\".format(age))\n",
    "        else:\n",
    "            print(\"{0}: false.\".format(age))\n",
    "            \n",
    "    else:\n",
    "        print(\"Student year of joining is not before 2020.\")\n",
    "        print(\"{0}: false.\".format(age))\n",
    "        \n",
    "else:\n",
    "    print(\"Student has not gotten A grade in the exam.\")\n",
    "    print(\"{0}: false.\".format(age))\n"
   ]
  },
  {
   "cell_type": "code",
   "execution_count": null,
   "id": "e05bde07",
   "metadata": {},
   "outputs": [],
   "source": [
    "#P2\n",
    "'''\n",
    "Write a python code to check whether the string is a Palindrome or not.\n",
    "ex - NITIN is a palindrome\n",
    "wasitacatotacatisaw is a palindrome\n",
    "\n",
    "welcome is not a palindrome\n",
    "'''"
   ]
  },
  {
   "cell_type": "code",
   "execution_count": 1,
   "id": "2f26ccfe",
   "metadata": {},
   "outputs": [
    {
     "name": "stdout",
     "output_type": "stream",
     "text": [
      "Enter the string : \n",
      "\n",
      "welcome\n",
      "The given string is not a palindrome.\n"
     ]
    },
    {
     "ename": "SystemExit",
     "evalue": "",
     "output_type": "error",
     "traceback": [
      "An exception has occurred, use %tb to see the full traceback.\n",
      "\u001b[1;31mSystemExit\u001b[0m\n"
     ]
    },
    {
     "name": "stderr",
     "output_type": "stream",
     "text": [
      "C:\\Users\\INDIA\\anaconda3\\lib\\site-packages\\IPython\\core\\interactiveshell.py:3445: UserWarning: To exit: use 'exit', 'quit', or Ctrl-D.\n",
      "  warn(\"To exit: use 'exit', 'quit', or Ctrl-D.\", stacklevel=1)\n"
     ]
    }
   ],
   "source": [
    "#This problem is a little harder\n",
    "\n",
    "import sys\n",
    "paldrome = input(\"Enter the string : \\n\\n\")\n",
    "for i in range(0,len(paldrome)//2):\n",
    "    if paldrome[i]==paldrome[len(paldrome)-i-1]: # comparing first entry of string to last one, here as the loop run the value will change.\n",
    "        continue\n",
    "    else:\n",
    "        print(\"The given string is not a palindrome.\")\n",
    "        sys.exit()  #in case of any mismatch it will exit the program after printing \"not a palindrome\"\n",
    "print(\"The given String is a palindrome.\")\n",
    "\n",
    "\n",
    "\n",
    "#An exception is occuring we will fix it soon.\n"
   ]
  },
  {
   "cell_type": "code",
   "execution_count": 1,
   "id": "0953436d",
   "metadata": {},
   "outputs": [
    {
     "data": {
      "text/plain": [
       "'\\nA python program to read a number and print a square of it.\\n'"
      ]
     },
     "execution_count": 1,
     "metadata": {},
     "output_type": "execute_result"
    }
   ],
   "source": [
    "#P3\n",
    "'''\n",
    "A python program to read a number and print a square of it.\n",
    "'''"
   ]
  },
  {
   "cell_type": "code",
   "execution_count": null,
   "id": "cebb54b2",
   "metadata": {},
   "outputs": [],
   "source": [
    "num=int(input(\"Enter the number ?\\n\"))\n",
    "print(\"The square of the number is : {0}\".format(num*num))"
   ]
  },
  {
   "cell_type": "code",
   "execution_count": null,
   "id": "44f13b6a",
   "metadata": {},
   "outputs": [],
   "source": [
    "#P4\n",
    "'''\n",
    "Write a python program to read a string from the console and print each character of the string in seperate line.\n",
    "\n",
    "'''"
   ]
  },
  {
   "cell_type": "code",
   "execution_count": null,
   "id": "77600b7f",
   "metadata": {},
   "outputs": [],
   "source": [
    "sen = input(\"Enter the string : \\n\")\n",
    "for i in sen:\n",
    "    print(i,end=\"\\n\")"
   ]
  },
  {
   "cell_type": "code",
   "execution_count": null,
   "id": "b8209327",
   "metadata": {},
   "outputs": [],
   "source": [
    "#P5\n",
    "'''\n",
    "Write a python program to read a 4- digit intger value as an input and perform sum of all digits of input interger and\n",
    "print the sum.\n",
    "\n",
    "'''\n",
    "#we have to solve it in another way too\n"
   ]
  },
  {
   "cell_type": "code",
   "execution_count": 7,
   "id": "5073a7a3",
   "metadata": {},
   "outputs": [
    {
     "name": "stdout",
     "output_type": "stream",
     "text": [
      "Enter the value :\n",
      "\n",
      "\n",
      "1234\n",
      "The sum of all the digits of the number is : 10.\n"
     ]
    }
   ],
   "source": [
    "reaad =input(\"Enter the value :\\n\\n\\n\")\n",
    "lread=list(reaad)\n",
    "add=0\n",
    "for i in lread:\n",
    "    add +=int(i)\n",
    "print(\"The sum of all the digits of the number is : {0}.\".format(add))"
   ]
  },
  {
   "cell_type": "code",
   "execution_count": null,
   "id": "9134a6d7",
   "metadata": {},
   "outputs": [],
   "source": [
    "#P6\n",
    "'''\n",
    "Write a python program to read a float value as input and round it to 2-digit .\n",
    "'''"
   ]
  },
  {
   "cell_type": "code",
   "execution_count": 2,
   "id": "98d94471",
   "metadata": {},
   "outputs": [
    {
     "name": "stdout",
     "output_type": "stream",
     "text": [
      "Enter the float value : \n",
      "\n",
      "123.234\n",
      "The float value is : 123.23.\n"
     ]
    }
   ],
   "source": [
    "flot = float(input(\"Enter the float value : \\n\\n\"))\n",
    "print(\"The float value is : {0:.2f}  .\".format(flot))"
   ]
  },
  {
   "cell_type": "code",
   "execution_count": null,
   "id": "aa5d2f12",
   "metadata": {},
   "outputs": [],
   "source": [
    "#P7\n",
    "'''\n",
    "Write a python program to read a string expression from a console and print the length of the expression.\n",
    "\n",
    "'''\n",
    "#whitespaces are considered a part of the string"
   ]
  },
  {
   "cell_type": "code",
   "execution_count": 8,
   "id": "c13564da",
   "metadata": {},
   "outputs": [
    {
     "name": "stdout",
     "output_type": "stream",
     "text": [
      "Enter the String :\n",
      "\n",
      "hello how are you\n",
      "The length of the String is 17.\n"
     ]
    }
   ],
   "source": [
    "strlen = input(\"Enter the String :\\n\\n\") \n",
    "print(\"The length of the String is {0}.\".format(len(strlen)))\n"
   ]
  },
  {
   "cell_type": "code",
   "execution_count": null,
   "id": "e25bfeb5",
   "metadata": {},
   "outputs": [],
   "source": [
    "#P8\n",
    "'''\n",
    "Write a python program  to read an input and to check and print out the following:\n",
    "\n",
    "1. if the input is a odd natural number then print out it is a odd natural number.\n",
    "2. if the input is a even natural number then print out it is a even natural number.\n",
    "3. if the input is not a natural number but a odd number then print out it is a odd number.\n",
    "4. if the input is not a natural number but a even number then print out it is a even number.\n",
    "'''"
   ]
  },
  {
   "cell_type": "code",
   "execution_count": null,
   "id": "16513003",
   "metadata": {},
   "outputs": [],
   "source": [
    "readint=int(input(\"Please enter the Integer value : \\n\\n\"))\n",
    "if readint>0:\n",
    "    print(\"It's a natural number.\")\n",
    "    if readint%2==0:\n",
    "        print(\"It is an Even natural number.\")\n",
    "    else:\n",
    "        print(\"It is an odd natural number. \")\n",
    "else:\n",
    "    print(\"It is not a natural number.\")\n",
    "    if readint%2==0:\n",
    "        print(\"It is a Even Number.\")\n",
    "    else:\n",
    "        print(\"It is a Odd Number.\")"
   ]
  },
  {
   "cell_type": "code",
   "execution_count": null,
   "id": "625c88a2",
   "metadata": {},
   "outputs": [],
   "source": [
    "#P9\n",
    "'''\n",
    "Write a python program to check whether a year is a leap year or not.\n",
    "\n",
    "\n",
    "\n",
    "for a year to be a leap year\n",
    "1. it should be divisible by 4. (1886,1804,1996)\n",
    "2. if its directly divisible by 400 its a leap year.(1600,2000,2400)\n",
    "3. if its divisible by 100 but not by 400 its not a  leap year.(1500, 1600(this is a leap year), 1700)\n",
    "4. year not divisible by 4 are not leap year.\n",
    "\n",
    "\n",
    "consider checking out leap year : \"https://www.cs.usfca.edu/~cruse/cs210s05/leapyear.bob\"\n",
    "\n",
    "logic :\n",
    "check if its divisible by 400\n",
    "check if its divisible by 4 but not by 100\n",
    "rest cases are not leap year.\n",
    "'''"
   ]
  },
  {
   "cell_type": "code",
   "execution_count": 5,
   "id": "33ed636b",
   "metadata": {},
   "outputs": [
    {
     "name": "stdout",
     "output_type": "stream",
     "text": [
      "Enter the year:\n",
      "\n",
      "1500\n",
      "The given year is a leap year.\n"
     ]
    }
   ],
   "source": [
    "year = int(input(\"Enter the year:\\n\\n\"))\n",
    "\n",
    "if year%400 == 0:\n",
    "    print(\"The given year is a leap year.\")\n",
    "elif year%4 == 0 and year%100 != 0:\n",
    "    print(\"The given year is a leap year.\")\n",
    "else:\n",
    "    print(\"The given year is not a leap year.\")"
   ]
  },
  {
   "cell_type": "code",
   "execution_count": null,
   "id": "dba9a324",
   "metadata": {},
   "outputs": [],
   "source": [
    "#P10\n",
    "'''\n",
    "Write a python program to read a String from the console, read another string which will be called pattern.\n",
    "if the input start or ends with the given input patterns.\n",
    "print : String contains the pattern\n",
    "else print : String does not contain the pattern\n",
    "\n",
    "example:\n",
    "\n",
    "Engineer build the nation\n",
    "pattern value should be : Engineer or nation.\n",
    "if build or the is pattern value, it will be false\n",
    "'''"
   ]
  },
  {
   "cell_type": "code",
   "execution_count": null,
   "id": "1ceeec0a",
   "metadata": {},
   "outputs": [],
   "source": []
  },
  {
   "cell_type": "code",
   "execution_count": null,
   "id": "c8c7bca4",
   "metadata": {},
   "outputs": [],
   "source": [
    "#P11\n",
    "'''\n",
    "Write a python program to read a float number from the console as salary, print the salary with hike.\n",
    "Conditions for the necessary hike:\n",
    "\n",
    "1. if salary >=10000, hike 10% of salary.\n",
    "2. if salary >=6000, hike 8% of salary.\n",
    "3. if salary <6000, hike 5% of salary.\n",
    "\n",
    "\n",
    "Note : Updated salary should be rounded to two digit.\n",
    "'''"
   ]
  },
  {
   "cell_type": "code",
   "execution_count": 9,
   "id": "27571ef7",
   "metadata": {},
   "outputs": [
    {
     "name": "stdout",
     "output_type": "stream",
     "text": [
      "Enter your salary : \n",
      "\n",
      "11000\n",
      "The Salary with hike is : 12100.00  .\n"
     ]
    }
   ],
   "source": [
    "salfloat = float(input(\"Enter your salary : \\n\\n\"))\n",
    "if salfloat >=10000:\n",
    "    print(\"The Salary with hike is : {0:.2f}  .\".format(salfloat + (salfloat * 10)/100 ))\n",
    "elif salfloat >=6000:\n",
    "    print(\"The Salary with hike is : {0:.2f}  .\".format(salfloat + (salfloat * 8)/100 ))\n",
    "elif salfloat <6000 and salfloat >0:\n",
    "    print(\"The Salary with hike is : {0:.2f}  .\".format(salfloat + (salfloat * 5)/100 ))\n",
    "else :\n",
    "    print(\"Invalid Salary.\")"
   ]
  },
  {
   "cell_type": "code",
   "execution_count": 7,
   "id": "f18b99b9",
   "metadata": {},
   "outputs": [
    {
     "data": {
      "text/plain": [
       "'\\nWrite a menu driven python program, read two integer value from the console and do the following operations on it as\\ngiven in menu.\\n\\n1. Addition\\n2. Substration\\n3. Multiplication\\n4. Division\\n5. power\\n6. Remainder (Modulus)\\n7. Floor division\\n\\n\\n\\nif there is a invalid choice print out invalid choice.\\nanswer it using if / else, switch or other method.\\n\"you can furthur add other options to it\"\\n'"
      ]
     },
     "execution_count": 7,
     "metadata": {},
     "output_type": "execute_result"
    }
   ],
   "source": [
    "#P12\n",
    "'''\n",
    "Write a menu driven python program, read two integer value from the console and do the following operations on it as\n",
    "given in menu (use choice value to operate the menu).\n",
    "\n",
    "1. Addition\n",
    "2. Substration\n",
    "3. Multiplication\n",
    "4. Division\n",
    "5. power\n",
    "6. Remainder (Modulus)\n",
    "7. Floor division\n",
    "\n",
    "\n",
    "\n",
    "if there is a invalid choice print out invalid choice.\n",
    "answer it using if / else, switch or other method.\n",
    "\"you can furthur add other options to it\"\n",
    "'''"
   ]
  },
  {
   "cell_type": "code",
   "execution_count": null,
   "id": "5b619f25",
   "metadata": {},
   "outputs": [],
   "source": []
  },
  {
   "cell_type": "code",
   "execution_count": null,
   "id": "e679836c",
   "metadata": {},
   "outputs": [],
   "source": []
  },
  {
   "cell_type": "code",
   "execution_count": null,
   "id": "d36ce0a9",
   "metadata": {},
   "outputs": [],
   "source": [
    "#P13\n",
    "'''\n",
    "Write a python program to read an integer from console as x, print true if x is a palindrome number otherwise print false.\n",
    "'''"
   ]
  },
  {
   "cell_type": "code",
   "execution_count": null,
   "id": "ed0df051",
   "metadata": {},
   "outputs": [],
   "source": []
  },
  {
   "cell_type": "code",
   "execution_count": null,
   "id": "72b1234d",
   "metadata": {},
   "outputs": [],
   "source": [
    "#P14\n",
    "\n",
    "'''\n",
    "Write a python program to read two string from console as str1 and str2, \n",
    "write a logic to check if str1 and str2 are anagrams or not.\n",
    "\n",
    "anagrams = An anagram is a word or phrase formed by rearranging the letter of a different word or phrase, \n",
    "typically using all the original letters exactly once.\n",
    "\n",
    "\n",
    "example : \n",
    "Listen == silent\n",
    "\n",
    "triangle == triangle\n",
    "\n",
    "\n",
    "if str1==str2 print str1==str2 is true\n",
    "else str1!=str2 print str1==str2 is false\n",
    "'''\n",
    "\n",
    "'''\n",
    "1. solve it for a word\n",
    "2. solve it for more than one word\n",
    "'''"
   ]
  }
 ],
 "metadata": {
  "kernelspec": {
   "display_name": "Python 3",
   "language": "python",
   "name": "python3"
  },
  "language_info": {
   "codemirror_mode": {
    "name": "ipython",
    "version": 3
   },
   "file_extension": ".py",
   "mimetype": "text/x-python",
   "name": "python",
   "nbconvert_exporter": "python",
   "pygments_lexer": "ipython3",
   "version": "3.8.8"
  }
 },
 "nbformat": 4,
 "nbformat_minor": 5
}
