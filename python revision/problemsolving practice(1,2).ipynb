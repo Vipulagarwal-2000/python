{
 "cells": [
  {
   "cell_type": "code",
   "execution_count": null,
   "id": "5882279d",
   "metadata": {},
   "outputs": [],
   "source": [
    "#P1\n",
    "'''\n",
    "Write a python program to check whether the youth is eligible to be a part of the group or not.\n",
    "\n",
    "eligibility criteria-\n",
    "1. Student must have an A grade in exam(marks>80 == A)\n",
    "2. \n",
    "'''"
   ]
  }
 ],
 "metadata": {
  "kernelspec": {
   "display_name": "Python 3",
   "language": "python",
   "name": "python3"
  },
  "language_info": {
   "codemirror_mode": {
    "name": "ipython",
    "version": 3
   },
   "file_extension": ".py",
   "mimetype": "text/x-python",
   "name": "python",
   "nbconvert_exporter": "python",
   "pygments_lexer": "ipython3",
   "version": "3.8.8"
  }
 },
 "nbformat": 4,
 "nbformat_minor": 5
}
