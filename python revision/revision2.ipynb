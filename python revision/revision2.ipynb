{
 "cells": [
  {
   "cell_type": "code",
   "execution_count": null,
   "id": "32fef531",
   "metadata": {},
   "outputs": [],
   "source": [
    "#if-else statements.\n",
    "#weather based decision program.\n",
    "weather=input(\"Today weather is (Check Weather Forecast)?\")\n",
    "if weather==\"Sunny\" or weather==\"sunny\":\n",
    "    print(\"Pls, Take your sunglasses with you.\")\n",
    "elif weather==\"Rainy\" or weather==\"rainy\":\n",
    "    print(\"Pls, Take your umbrella with you.\")\n",
    "else:\n",
    "    print(\"Pls, Enter the valid input.\")\n",
    "    \n",
    "# == - this represent the equals to comparision operator and = represents the assignment operator."
   ]
  },
  {
   "cell_type": "code",
   "execution_count": 1,
   "id": "6676a222",
   "metadata": {},
   "outputs": [
    {
     "name": "stdout",
     "output_type": "stream",
     "text": [
      "Enter your Score?\n",
      "34\n",
      "Your grade is D.\n"
     ]
    }
   ],
   "source": [
    "# School score-grade program\n",
    "score=int(input(\"Enter your Score?\\n\"))\n",
    "if score>=90 and score<=100:\n",
    "    print(\"Your grade is {}.\".format(\"A\"))\n",
    "elif score>=80 and score<=90:\n",
    "    print(\"Your grade is {}.\".format(\"B\"))\n",
    "elif score>=70 and score<=80:\n",
    "    print(\"Your grade is {}.\".format(\"C\"))\n",
    "elif score<70 and score>=0:\n",
    "    print(\"Your grade is {}.\".format(\"D\"))\n",
    "else:\n",
    "    print(\"Invalid value\")"
   ]
  },
  {
   "cell_type": "code",
   "execution_count": 5,
   "id": "f8e0af28",
   "metadata": {},
   "outputs": [
    {
     "name": "stdout",
     "output_type": "stream",
     "text": [
      "Enter the number?\n",
      "3\n",
      "FALSE\n"
     ]
    }
   ],
   "source": [
    "#what we have used above are the comparision operators.\n",
    "# <=, >=, <, >, ==, !=\n",
    "# comparision operator always result in True or False as output\n",
    "#comparision operator can be combined using binary operators.(and, or, not)\n",
    "#operator precedence comparsion operator- ==,!=, <, <=, >, >=, is, is not\n",
    "#boolean operator precedence- not, and, or\n",
    "\n",
    "#PS - Given a number n. check whether the given number is natural even number or not.\n",
    "n = int(input(\"Enter the number?\\n\"))\n",
    "if n%2==0 and n>0:\n",
    "    print(\"True the number is as required.\")\n",
    "else:\n",
    "    print(\"FALSE Number is either not Even or not a Natural number.\")"
   ]
  },
  {
   "cell_type": "code",
   "execution_count": null,
   "id": "84159d5c",
   "metadata": {},
   "outputs": [],
   "source": []
  }
 ],
 "metadata": {
  "kernelspec": {
   "display_name": "Python 3",
   "language": "python",
   "name": "python3"
  },
  "language_info": {
   "codemirror_mode": {
    "name": "ipython",
    "version": 3
   },
   "file_extension": ".py",
   "mimetype": "text/x-python",
   "name": "python",
   "nbconvert_exporter": "python",
   "pygments_lexer": "ipython3",
   "version": "3.8.8"
  }
 },
 "nbformat": 4,
 "nbformat_minor": 5
}
